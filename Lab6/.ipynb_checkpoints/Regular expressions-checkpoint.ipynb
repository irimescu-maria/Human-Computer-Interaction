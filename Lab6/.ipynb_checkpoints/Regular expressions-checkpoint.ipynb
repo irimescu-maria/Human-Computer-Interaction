{
 "cells": [
  {
   "cell_type": "code",
   "execution_count": 1,
   "metadata": {},
   "outputs": [
    {
     "name": "stdout",
     "output_type": "stream",
     "text": [
      "Matched\n"
     ]
    }
   ],
   "source": [
    "# Example 1 \n",
    "import re \n",
    "pattern = r\"bla\"\n",
    "if re.match(pattern, \"blablabla\"):\n",
    "    print(\"Matched\")\n",
    "else: \n",
    "    print(\"No match\")"
   ]
  },
  {
   "cell_type": "code",
   "execution_count": 3,
   "metadata": {},
   "outputs": [
    {
     "name": "stdout",
     "output_type": "stream",
     "text": [
      "My name is David. Hi dear!\n"
     ]
    }
   ],
   "source": [
    "# Exemple 2 - Serch & Replace\n",
    "import re \n",
    "str = \"My name is Alexandra. Hi dear!\"\n",
    "pattern = r\"Alexandra\"\n",
    "newStr = re.sub(pattern, \"David\", str)\n",
    "print(newStr)"
   ]
  },
  {
   "cell_type": "code",
   "execution_count": 5,
   "metadata": {},
   "outputs": [
    {
     "name": "stdout",
     "output_type": "stream",
     "text": [
      "Match vowels\n"
     ]
    }
   ],
   "source": [
    "# example 3 - Character Class\n",
    "import re\n",
    "pattern = r\"[aeiou]\"\n",
    "if re.search(pattern, \"sometimes\"):\n",
    "    print(\"Match vowels\")\n",
    "if re.search(pattern, \"tsktsks\"):\n",
    "    print(\"No match vowels\")"
   ]
  },
  {
   "cell_type": "code",
   "execution_count": 6,
   "metadata": {},
   "outputs": [
    {
     "name": "stdout",
     "output_type": "stream",
     "text": [
      "Match string with only lowercase characters\n",
      "Match string with at least one lowercase character\n"
     ]
    }
   ],
   "source": [
    "# Exeample 4 - Metacharacter ^\n",
    "import re\n",
    "pattern = r\"[^A-Z]\"\n",
    "if re.search(pattern, \"abcde\"):\n",
    "    print(\"Match string with only lowercase characters\")\n",
    "if re.search(pattern, \"Abcde\"):\n",
    "    print(\"Match string with at least one lowercase character\")\n",
    "if re.search(pattern, \"ABCDE\"):\n",
    "    print(\"Match string with only uppercase characters\")"
   ]
  },
  {
   "cell_type": "code",
   "execution_count": 7,
   "metadata": {},
   "outputs": [
    {
     "name": "stdout",
     "output_type": "stream",
     "text": [
      "Match 1\n",
      "Match 2\n"
     ]
    }
   ],
   "source": [
    "# Exemple 5  - Metacharacter *\n",
    "import re\n",
    "pattern = r\"spam(bla)*\"\n",
    "if re.search(pattern, \"spam\"):\n",
    "    print(\"Match 1\")\n",
    "if re.search(pattern, \"spamblaspam\"):\n",
    "    print(\"Match 2\")\n",
    "if re.search(pattern, \"bla\"):\n",
    "    print(\"Match 3\")"
   ]
  },
  {
   "cell_type": "code",
   "execution_count": 10,
   "metadata": {},
   "outputs": [
    {
     "name": "stdout",
     "output_type": "stream",
     "text": [
      "info\n",
      "doityourself\n"
     ]
    }
   ],
   "source": [
    "# Example 6 - Email Extraction\n",
    "import re\n",
    "pattern = r\"([\\w\\.-]+)@([\\w\\.-]+)(\\.[\\w]+)\"\n",
    "str = \"Please contact info@doityourself.com for assistance\"\n",
    "match = re.search(pattern, str)\n",
    "if match:\n",
    "    print(match.group(1))\n",
    "    print(match.group(2))"
   ]
  },
  {
   "cell_type": "code",
   "execution_count": 3,
   "metadata": {},
   "outputs": [
    {
     "name": "stdout",
     "output_type": "stream",
     "text": [
      "User name is:  contact\n",
      "Company name is:  opinion\n"
     ]
    }
   ],
   "source": [
    "# Exercise 1 \n",
    "\n",
    "'''\n",
    "    Assuming we have some email addresses in the input text, write a program to print the user name and the company name\n",
    "of given email address. Both user names and company names are composed of letters only.\n",
    "'''\n",
    "\n",
    "import re\n",
    "pattern = r\"([\\w\\.-]+)@([\\w\\.-]+)(\\.[\\w]+)\"\n",
    "\n",
    "filename = 'file.txt'\n",
    "file = open(filename, 'r')\n",
    "text = file.read()\n",
    "file.close()\n",
    "username = \"\"\n",
    "companyname = \"\"\n",
    "for word in text.split():\n",
    "    match = re.search(pattern, word)\n",
    "    if(match):\n",
    "        username = match.group(1)\n",
    "        companyname = match.group(2)\n",
    "print(\"User name is: \", username)\n",
    "print(\"Company name is: \", companyname)"
   ]
  },
  {
   "cell_type": "code",
   "execution_count": 3,
   "metadata": {},
   "outputs": [
    {
     "name": "stdout",
     "output_type": "stream",
     "text": [
      "['Please send us yoor feedback at email address feedback@support.com contact@opinion.com', 'Tell us something about you at email address contact@opinion.com']\n",
      "Please send us yoor feedback at email address feedback@support.com contact@opinion.com\n",
      "Please\n",
      "send\n",
      "us\n",
      "yoor\n",
      "feedback\n",
      "at\n",
      "email\n",
      "address\n",
      "feedback@support.com\n",
      "contact@opinion.com\n",
      "Tell us something about you at email address contact@opinion.com\n",
      "Tell\n",
      "us\n",
      "something\n",
      "about\n",
      "you\n",
      "at\n",
      "email\n",
      "address\n",
      "contact@opinion.com\n",
      "List of emails ['feedback@support.com', 'contact@opinion.com', 'contact@opinion.com']\n"
     ]
    }
   ],
   "source": [
    "# Exercise 2\n",
    "'''\n",
    "    Assuming we have more than one email addresses in the input text, write a program to print these email addresses.\n",
    "'''\n",
    "\n",
    "import re\n",
    "pattern = r\"([\\w\\.-]+)@([\\w\\.-]+)(\\.[\\w]+)\"\n",
    "\n",
    "filename = 'file.txt'\n",
    "file = open(filename, 'r')\n",
    "text = file.read()\n",
    "file.close()\n",
    "\n",
    "email = \"\"\n",
    "\n",
    "#store each phrase from text file\n",
    "listOfSentences = []\n",
    "\n",
    "#store email addresses\n",
    "listOfEmailAddresses = []\n",
    "\n",
    "#split text file in phrases\n",
    "for sentence in re.split(r\"[\\.][\\s]\", text):\n",
    "    listOfSentences.append(sentence)\n",
    "print(listOfSentences)\n",
    "\n",
    "#the length of list\n",
    "length = len(listOfSentences)\n",
    "\n",
    "for i in range(length):\n",
    "    #iterate on each phrase from sentences list\n",
    "    phrase = listOfSentences[i]\n",
    "    print(phrase)\n",
    "    for word in phrase.split(\" \"):\n",
    "\n",
    "        #check if word matches with pattern\n",
    "        match = re.search(pattern, word)\n",
    "        if match:\n",
    "            email = match.group()\n",
    "            listOfEmailAddresses.append(email)\n",
    "print(\"List of emails\", listOfEmailAddresses)"
   ]
  },
  {
   "cell_type": "code",
   "execution_count": null,
   "metadata": {},
   "outputs": [],
   "source": []
  },
  {
   "cell_type": "code",
   "execution_count": null,
   "metadata": {},
   "outputs": [],
   "source": []
  }
 ],
 "metadata": {
  "kernelspec": {
   "display_name": "Python 3",
   "language": "python",
   "name": "python3"
  },
  "language_info": {
   "codemirror_mode": {
    "name": "ipython",
    "version": 3
   },
   "file_extension": ".py",
   "mimetype": "text/x-python",
   "name": "python",
   "nbconvert_exporter": "python",
   "pygments_lexer": "ipython3",
   "version": "3.7.3"
  }
 },
 "nbformat": 4,
 "nbformat_minor": 2
}
