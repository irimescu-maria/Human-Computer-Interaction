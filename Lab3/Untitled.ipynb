{
 "cells": [
  {
   "cell_type": "code",
   "execution_count": 2,
   "metadata": {},
   "outputs": [
    {
     "name": "stdout",
     "output_type": "stream",
     "text": [
      "Hello\n",
      "world\n",
      "!\n"
     ]
    }
   ],
   "source": [
    "'''\n",
    "    Lists\n",
    "    \n",
    "    Exemple 1\n",
    "'''\n",
    "words = [\"Hello\", \"world\", \"!\"]\n",
    "print(words[0])\n",
    "print(words[1])\n",
    "print(words[2])"
   ]
  },
  {
   "cell_type": "code",
   "execution_count": 3,
   "metadata": {},
   "outputs": [
    {
     "name": "stdout",
     "output_type": "stream",
     "text": [
      "w\n"
     ]
    }
   ],
   "source": [
    "'''\n",
    "    Exemple 2\n",
    "'''\n",
    "str = \"Hello world!\"\n",
    "''' Print the sixth character from string'''\n",
    "print(str[6])"
   ]
  },
  {
   "cell_type": "code",
   "execution_count": 4,
   "metadata": {},
   "outputs": [
    {
     "name": "stdout",
     "output_type": "stream",
     "text": [
      "[7, 3, 7]\n"
     ]
    }
   ],
   "source": [
    "'''\n",
    "    Exemple 3 - Reassigned the item at a certain index in a list\n",
    "'''\n",
    "sevens = [7, 7, 7]\n",
    "sevens[1] = 3\n",
    "print(sevens)\n"
   ]
  },
  {
   "cell_type": "code",
   "execution_count": 7,
   "metadata": {},
   "outputs": [
    {
     "name": "stdout",
     "output_type": "stream",
     "text": [
      "[1, 2, 3, 4, 5, 6]\n",
      "[1, 2, 3, 7]\n",
      "[1, 2, 3, 1, 2, 3, 1, 2, 3]\n"
     ]
    }
   ],
   "source": [
    "'''\n",
    "    Exemple 4 - Lists can be added and multiplied in the same way as strings\n",
    "'''\n",
    "nums = [1, 2, 3]\n",
    "print(nums + [4, 5, 6])\n",
    "\n",
    "nums.append(7)\n",
    "print(nums)\n",
    "\n",
    "nums = [1, 2, 3]\n",
    "print(nums*3)"
   ]
  },
  {
   "cell_type": "code",
   "execution_count": 9,
   "metadata": {},
   "outputs": [
    {
     "name": "stdout",
     "output_type": "stream",
     "text": [
      "True\n",
      "True\n"
     ]
    }
   ],
   "source": [
    "'''\n",
    "    Exemple 5 - To check if an item is in a list, the \"in\" operator can be used\n",
    "'''\n",
    "print(\"Hello\" in words)\n",
    "print(not \"bla-bla\" in words)"
   ]
  },
  {
   "cell_type": "code",
   "execution_count": 10,
   "metadata": {},
   "outputs": [
    {
     "name": "stdout",
     "output_type": "stream",
     "text": [
      "3\n"
     ]
    }
   ],
   "source": [
    "'''\n",
    "    Exemple 6 \n",
    "'''\n",
    "nums = [1, 2, 3]\n",
    "print(len(nums))"
   ]
  },
  {
   "cell_type": "code",
   "execution_count": 12,
   "metadata": {},
   "outputs": [
    {
     "name": "stdout",
     "output_type": "stream",
     "text": [
      "['Programming', 'is', 'fun']\n"
     ]
    }
   ],
   "source": [
    "'''\n",
    "    Exemple 7\n",
    "'''\n",
    "str = [\"Programming\", \"fun\"]\n",
    "str.insert(1, \"is\")\n",
    "print(str)"
   ]
  },
  {
   "cell_type": "code",
   "execution_count": 14,
   "metadata": {},
   "outputs": [
    {
     "name": "stdout",
     "output_type": "stream",
     "text": [
      "2\n"
     ]
    },
    {
     "ename": "ValueError",
     "evalue": "'3' is not in list",
     "output_type": "error",
     "traceback": [
      "\u001b[1;31m---------------------------------------------------------------------------\u001b[0m",
      "\u001b[1;31mValueError\u001b[0m                                Traceback (most recent call last)",
      "\u001b[1;32m<ipython-input-14-fb78beb66d2b>\u001b[0m in \u001b[0;36m<module>\u001b[1;34m\u001b[0m\n\u001b[0;32m      5\u001b[0m \u001b[0mprint\u001b[0m\u001b[1;33m(\u001b[0m\u001b[0mletters\u001b[0m\u001b[1;33m.\u001b[0m\u001b[0mindex\u001b[0m\u001b[1;33m(\u001b[0m\u001b[1;34m'c'\u001b[0m\u001b[1;33m)\u001b[0m\u001b[1;33m)\u001b[0m\u001b[1;33m\u001b[0m\u001b[1;33m\u001b[0m\u001b[0m\n\u001b[0;32m      6\u001b[0m \u001b[1;33m\u001b[0m\u001b[0m\n\u001b[1;32m----> 7\u001b[1;33m \u001b[0mprint\u001b[0m\u001b[1;33m(\u001b[0m\u001b[0mletters\u001b[0m\u001b[1;33m.\u001b[0m\u001b[0mindex\u001b[0m\u001b[1;33m(\u001b[0m\u001b[1;34m'3'\u001b[0m\u001b[1;33m)\u001b[0m\u001b[1;33m)\u001b[0m\u001b[1;33m\u001b[0m\u001b[1;33m\u001b[0m\u001b[0m\n\u001b[0m",
      "\u001b[1;31mValueError\u001b[0m: '3' is not in list"
     ]
    }
   ],
   "source": [
    "'''\n",
    "    Exemple 8\n",
    "'''\n",
    "letters = ['a', 'b', 'c', 'd']\n",
    "print(letters.index('c'))\n",
    "\n",
    "print(letters.index('3'))"
   ]
  },
  {
   "cell_type": "code",
   "execution_count": 17,
   "metadata": {},
   "outputs": [
    {
     "name": "stdout",
     "output_type": "stream",
     "text": [
      "[0, 1, 2, 3, 4]\n",
      "[1, 2, 3, 4]\n"
     ]
    }
   ],
   "source": [
    "'''\n",
    "    Exemple 9\n",
    "'''\n",
    "nums = list(range(5))\n",
    "print(nums)\n",
    "\n",
    "nums = list(range(1, 5))\n",
    "print(nums)"
   ]
  },
  {
   "cell_type": "code",
   "execution_count": 18,
   "metadata": {},
   "outputs": [
    {
     "name": "stdout",
     "output_type": "stream",
     "text": [
      "[5, 7, 9, 11, 13, 15, 17, 19]\n"
     ]
    }
   ],
   "source": [
    "'''\n",
    "    Exemple 10\n",
    "'''\n",
    "nums = list(range(5, 20, 2))\n",
    "print(nums)"
   ]
  },
  {
   "cell_type": "code",
   "execution_count": 19,
   "metadata": {},
   "outputs": [
    {
     "name": "stdout",
     "output_type": "stream",
     "text": [
      "hello\n",
      "hello\n",
      "hello\n",
      "hello\n",
      "hello\n"
     ]
    }
   ],
   "source": [
    "'''\n",
    "    Exemple 11\n",
    "'''\n",
    "for i in range(5):\n",
    "    print(\"hello\")"
   ]
  },
  {
   "cell_type": "code",
   "execution_count": 22,
   "metadata": {},
   "outputs": [
    {
     "name": "stdout",
     "output_type": "stream",
     "text": [
      "Hello!\n",
      "boys!\n",
      "and!\n",
      "Hello!\n",
      "boys!\n",
      "and!\n",
      "girls!\n"
     ]
    }
   ],
   "source": [
    "'''\n",
    "    Exemple 12 - Loops on lists\n",
    "'''\n",
    "words = [\"Hello\", \"boys\", \"and\", \"girls\"]\n",
    "counter = 0\n",
    "length = len(words) - 1\n",
    "while(counter < length):\n",
    "    word = words[counter]\n",
    "    print(word + \"!\")\n",
    "    counter = counter + 1\n",
    "    \n",
    "''' Or '''\n",
    "words = [\"Hello\", \"boys\", \"and\", \"girls\"]\n",
    "for word in words:\n",
    "    print(word + \"!\")"
   ]
  },
  {
   "cell_type": "code",
   "execution_count": null,
   "metadata": {},
   "outputs": [
    {
     "name": "stdout",
     "output_type": "stream",
     "text": [
      "Do you want to insert numbers?(Y/N)\n",
      "Y\n",
      "Number of elements: 5\n",
      "Element: 1\n",
      "Element: 2\n",
      "Element: 3\n",
      "Element: 4\n",
      "Element: 5\n",
      "List contains:  [1, 2, 3, 4, 5]\n",
      "Sum of list of numbers is 15\n",
      "Minimum is: 1\n",
      "Maxim is: 5\n",
      "N\n",
      "List [1, 2, 3, 4, 5]\n"
     ]
    }
   ],
   "source": [
    "'''\n",
    "    Exercise 1 - Read a list of n numbers. Print the minimum/the maximum and the sum of the list elements.\n",
    "'''\n",
    "nums = []\n",
    "print(\"Do you want to insert numbers?(Y/N)\")\n",
    "while (True):\n",
    "    value = input()\n",
    "    if(value == 'Y'):\n",
    "        n = input(\"Number of elements: \")\n",
    "        for i in range(int(n)):\n",
    "            number = input(\"Element: \")\n",
    "            nums.append(int(number))\n",
    "        print(\"List contains: \", nums)\n",
    "        suma = 0\n",
    "        for i in nums:\n",
    "            suma += i\n",
    "        print(\"Sum of list of numbers is\", suma)\n",
    "        minim = nums[0]\n",
    "        for i in nums:\n",
    "            if(minim>i):\n",
    "                minim = i\n",
    "        print(\"Minimum is:\", minim)\n",
    "        maxim = nums[0]\n",
    "        for i in nums:\n",
    "            if(maxim<i):\n",
    "                maxim = i\n",
    "        print(\"Maxim is:\", maxim)\n",
    "    elif value == 'N':\n",
    "        print(\"List\", nums)\n",
    "    "
   ]
  },
  {
   "cell_type": "code",
   "execution_count": 1,
   "metadata": {},
   "outputs": [
    {
     "name": "stdout",
     "output_type": "stream",
     "text": [
      "30\n"
     ]
    }
   ],
   "source": [
    "'''\n",
    "    Dictionaries\n",
    "    Exemple 1\n",
    "'''\n",
    "ages = {\"Ana\":24, \"Maria\":25, \"Ioana\":30}\n",
    "print(ages[\"Ioana\"])"
   ]
  },
  {
   "cell_type": "code",
   "execution_count": 2,
   "metadata": {},
   "outputs": [
    {
     "name": "stdout",
     "output_type": "stream",
     "text": [
      "{1: 1, 2: 4, 3: 9, 4: 16, 5: 25, 8: 64}\n"
     ]
    }
   ],
   "source": [
    "'''\n",
    "    Exemple 2\n",
    "'''\n",
    "squares = {1:1, 2:4, 3:\"error\", 4:16, 5:25}\n",
    "squares[8] = 64\n",
    "squares[3] = 9\n",
    "print(squares)"
   ]
  },
  {
   "cell_type": "code",
   "execution_count": 4,
   "metadata": {},
   "outputs": [
    {
     "name": "stdout",
     "output_type": "stream",
     "text": [
      "True\n",
      "False\n"
     ]
    }
   ],
   "source": [
    "'''\n",
    "    Example 3\n",
    "'''\n",
    "\n",
    "ages = {\"Ana\":24, \"Maria\":25, \"Ioana\":30}\n",
    "print(\"Maria\" in ages)\n",
    "print(30 in ages)"
   ]
  },
  {
   "cell_type": "code",
   "execution_count": 7,
   "metadata": {},
   "outputs": [
    {
     "name": "stdout",
     "output_type": "stream",
     "text": [
      "[1, 2, 3]\n",
      "None\n",
      "not in dictionary\n"
     ]
    }
   ],
   "source": [
    "'''\n",
    "    Example 4\n",
    "'''\n",
    "pairs = {1: \"one\", \"list\": [1, 2, 3], True:False}\n",
    "print(pairs.get(\"list\"))\n",
    "print(pairs.get(\"apples\"))\n",
    "print(pairs.get(\"bananas\", \"not in dictionary\"))"
   ]
  },
  {
   "cell_type": "code",
   "execution_count": 8,
   "metadata": {},
   "outputs": [
    {
     "name": "stdout",
     "output_type": "stream",
     "text": [
      "Numbers: 1 2 3\n"
     ]
    }
   ],
   "source": [
    "'''\n",
    " Strings\n",
    "'''\n",
    "nums = [1, 2, 3]\n",
    "msg = \"Numbers: {0} {1} {2}\".format(nums[0], nums[1], nums[2])\n",
    "print(msg)"
   ]
  },
  {
   "cell_type": "code",
   "execution_count": 47,
   "metadata": {},
   "outputs": [
    {
     "name": "stdout",
     "output_type": "stream",
     "text": [
      "List of numbers [1, 2, 3, 4, 5, 6, 7, 8, 9, 9, 8, 7, 6, 4, 5, 6, 2, 3, 5, 7, 8]\n",
      "Dictionary of numbers {1: 1, 2: 2, 3: 2, 4: 2, 5: 3, 6: 3, 7: 3, 8: 3, 9: 2}\n",
      "Number 9 has maximum frequency 3\n"
     ]
    }
   ],
   "source": [
    "'''\n",
    "    Exercise 2 - Exetract and print the most frequent numbers of a given list.\n",
    "'''\n",
    "\n",
    "listOfNumbers = [1,2,3,4,5,6,7,8,9,9,8,7,6,4,5,6,2,3,5,7,8]\n",
    "print(\"List of numbers\",listOfNumbers)\n",
    "\n",
    "'''\n",
    "Declare an empty dictionary\n",
    "'''\n",
    "frequencyList = {}\n",
    "counter = 1\n",
    "for item in listOfNumbers:\n",
    "    if item in frequencyList:\n",
    "        frequencyList[item] += counter\n",
    "    else:\n",
    "        frequencyList[item] = counter\n",
    "        \n",
    "print(\"Dictionary of numbers\",frequencyList)\n",
    "print(\"Number\", max(frequencyList.keys()), \"has maximum frequency\", max(frequencyList.values()))\n",
    "\n",
    "        "
   ]
  },
  {
   "cell_type": "code",
   "execution_count": 77,
   "metadata": {},
   "outputs": [
    {
     "name": "stdout",
     "output_type": "stream",
     "text": [
      "( SQL , 6 )\n",
      "( injection , 4 )\n",
      "( is , 4 )\n",
      "( to , 4 )\n",
      "( for , 4 )\n",
      "( attack , 3 )\n",
      "( in , 3 )\n",
      "( an , 3 )\n",
      "( a , 2 )\n",
      "( used , 2 )\n",
      "( statements , 2 )\n",
      "( the , 2 )\n",
      "( user , 2 )\n",
      "( input , 2 )\n",
      "( code , 1 )\n",
      "( technique, , 1 )\n",
      "( data-driven , 1 )\n",
      "( applications, , 1 )\n",
      "( which , 1 )\n",
      "( diabolical , 1 )\n",
      "( are , 1 )\n",
      "( inserted , 1 )\n",
      "( into , 1 )\n",
      "( entry , 1 )\n",
      "( field , 1 )\n",
      "( execution , 1 )\n",
      "( (e.g. , 1 )\n",
      "( dump , 1 )\n",
      "( database , 1 )\n",
      "( contents , 1 )\n",
      "( attacker).[1] , 1 )\n",
      "( must , 1 )\n",
      "( exploit , 1 )\n",
      "( security , 1 )\n",
      "( vulnerability , 1 )\n",
      "( application's , 1 )\n",
      "( software, , 1 )\n",
      "( example, , 1 )\n",
      "( when , 1 )\n",
      "( either , 1 )\n",
      "( incorrectly , 1 )\n",
      "( filtered , 1 )\n",
      "( string , 1 )\n",
      "( literal , 1 )\n",
      "( escape , 1 )\n",
      "( characters , 1 )\n",
      "( embedded , 1 )\n",
      "( or , 1 )\n",
      "( not , 1 )\n",
      "( strongly , 1 )\n",
      "( typed , 1 )\n",
      "( and , 1 )\n",
      "( unexpectedly , 1 )\n",
      "( executed. , 1 )\n",
      "( mostly , 1 )\n",
      "( known , 1 )\n",
      "( as , 1 )\n",
      "( vector , 1 )\n",
      "( websites , 1 )\n",
      "( but , 1 )\n",
      "( can , 1 )\n",
      "( be , 1 )\n",
      "( any , 1 )\n",
      "( type , 1 )\n",
      "( of , 1 )\n",
      "( database. , 1 )\n"
     ]
    }
   ],
   "source": [
    "'''\n",
    "    Exercise 3. Extract and print the most frequent words of a given sentence/text.\n",
    "'''\n",
    "sentence = \"SQL injection is a code injection technique, used to attack data-driven applications, in which diabolical SQL statements are inserted into an entry field for execution (e.g. to dump the database contents to the attacker).[1] SQL injection must exploit a security vulnerability in an application's software, for example, when user input is either incorrectly filtered for string literal escape characters embedded in SQL statements or user input is not strongly typed and unexpectedly executed. SQL injection is mostly known as an attack vector for websites but can be used to attack any type of SQL database.\"\n",
    "\n",
    "'''split the text'''\n",
    "words = sentence.split();\n",
    "\n",
    "''' Declare a dictionary for storing the frequency word'''\n",
    "wordFrequency = {}\n",
    "counter = 1\n",
    "for word in words:\n",
    "    if word not in wordFrequency:\n",
    "        wordFrequency[word] = counter\n",
    "    else:\n",
    "        wordFrequency[word] += counter\n",
    "sortedWordFrequency = sorted(wordFrequency, key = wordFrequency.get, reverse = True)\n",
    "for item in sortedWordFrequency:\n",
    "    print(\"(\",item,\",\", wordFrequency[item],\")\")"
   ]
  },
  {
   "cell_type": "code",
   "execution_count": null,
   "metadata": {},
   "outputs": [],
   "source": []
  },
  {
   "cell_type": "code",
   "execution_count": null,
   "metadata": {},
   "outputs": [],
   "source": []
  }
 ],
 "metadata": {
  "kernelspec": {
   "display_name": "Python 3",
   "language": "python",
   "name": "python3"
  },
  "language_info": {
   "codemirror_mode": {
    "name": "ipython",
    "version": 3
   },
   "file_extension": ".py",
   "mimetype": "text/x-python",
   "name": "python",
   "nbconvert_exporter": "python",
   "pygments_lexer": "ipython3",
   "version": "3.7.3"
  }
 },
 "nbformat": 4,
 "nbformat_minor": 2
}
