{
 "cells": [
  {
   "cell_type": "code",
   "execution_count": 1,
   "metadata": {},
   "outputs": [
    {
     "name": "stdout",
     "output_type": "stream",
     "text": [
      "Give the string:Alexandra\n",
      "{'A': 1, 'l': 1, 'e': 1, 'x': 1, 'a': 2, 'n': 1, 'd': 1, 'r': 1}\n"
     ]
    }
   ],
   "source": [
    "''' Exemple 1\n",
    "\n",
    "Given an input string, print the number of occurences for every character within the string'''\n",
    "\n",
    "inputStr = input(\"Give the string:\")\n",
    "countDict = {}\n",
    "for char in inputStr:\n",
    "    count = inputStr.count(char)\n",
    "    countDict[char] = count\n",
    "print(countDict)\n",
    "    "
   ]
  },
  {
   "cell_type": "code",
   "execution_count": 6,
   "metadata": {},
   "outputs": [
    {
     "name": "stdout",
     "output_type": "stream",
     "text": [
      "PRint number of chars, digits, and symbols\n",
      "Chars =  8\n",
      "Digits =  3\n",
      "Symbols =  4\n",
      "None\n"
     ]
    }
   ],
   "source": [
    "''' Exemple 2\n",
    "\n",
    "Given an input string, print the number of included letters, digits, and special symbols.'''\n",
    "def cont_chars(inputString):\n",
    "    charCount = 0\n",
    "    digitCount = 0\n",
    "    symbolCount = 0 \n",
    "    for ch in inputString:\n",
    "        if ch.islower() or ch.isupper():\n",
    "            charCount+=1\n",
    "        elif ch.isnumeric():\n",
    "            digitCount+=1\n",
    "        else:\n",
    "            symbolCount+=1\n",
    "    print(\"Chars = \", charCount)\n",
    "    print(\"Digits = \", digitCount)\n",
    "    print(\"Symbols = \", symbolCount)\n",
    "\n",
    "inputString = \"P@#yn26at^&i5ve\"\n",
    "print(\"PRint number of chars, digits, and symbols\")\n",
    "print(cont_chars(inputString))"
   ]
  },
  {
   "cell_type": "code",
   "execution_count": 13,
   "metadata": {},
   "outputs": [
    {
     "name": "stdout",
     "output_type": "stream",
     "text": [
      "['This', 'is', 'a', 'test']\n",
      "['this', 'is', 'a', 'test']\n"
     ]
    }
   ],
   "source": [
    "''' Exemple 3\n",
    "Load a text file. Then split the text by whitespace and remove all the punctuation'''\n",
    "\n",
    "filename = 'file.txt'\n",
    "file = open(filename, 'r')\n",
    "text = file.read()\n",
    "file.close()\n",
    "words = text.split()\n",
    "print(words)\n",
    "words = [word.lower() for word in words]\n",
    "print(words)"
   ]
  },
  {
   "cell_type": "code",
   "execution_count": 14,
   "metadata": {},
   "outputs": [
    {
     "name": "stdout",
     "output_type": "stream",
     "text": [
      "Give the substring: This is a test\n",
      "The number of occurrences is:  1\n"
     ]
    }
   ],
   "source": [
    "''' Exemple 4\n",
    "Given an input file, print the number of occurrences a given word in the given file ignoring the case'''\n",
    "\n",
    "filename = 'file.txt'\n",
    "file = open(filename, 'r')\n",
    "text = file.read()\n",
    "file.close()\n",
    "substring = input(\"Give the substring: \")\n",
    "tempString = text.lower()\n",
    "count = tempString.count(substring.lower())\n",
    "print(\"The number of occurrences is: \", count)"
   ]
  },
  {
   "cell_type": "code",
   "execution_count": 21,
   "metadata": {},
   "outputs": [
    {
     "name": "stdout",
     "output_type": "stream",
     "text": [
      "406@/,HJHxfz\n"
     ]
    }
   ],
   "source": [
    "''' Exercise 1\n",
    "Generate random string that can be as passwords with a specified number of characters and a specified type of characters'''\n",
    "import string\n",
    "import random\n",
    "password = \"\"\n",
    "for i in range(12):\n",
    "    if i>=0 and i<3:\n",
    "        allowed_digits = string.digits\n",
    "        password += random.choice(allowed_digits)\n",
    "    elif i>=3 and i<6:\n",
    "        allowed_punctuation = string.punctuation\n",
    "        password += random.choice(allowed_punctuation)\n",
    "    elif i>=6 and i<9:\n",
    "        allowed_upperCase = string.ascii_uppercase\n",
    "        password += random.choice(allowed_upperCase)\n",
    "    elif i>=9 and i<12:\n",
    "        allowed_lowerCase = string.ascii_lowercase\n",
    "        password += random.choice(allowed_lowerCase)\n",
    "print(password)"
   ]
  },
  {
   "cell_type": "code",
   "execution_count": 119,
   "metadata": {},
   "outputs": [
    {
     "ename": "TypeError",
     "evalue": "replace() argument 1 must be str, not bool",
     "output_type": "error",
     "traceback": [
      "\u001b[1;31m---------------------------------------------------------------------------\u001b[0m",
      "\u001b[1;31mTypeError\u001b[0m                                 Traceback (most recent call last)",
      "\u001b[1;32m<ipython-input-119-1eb9395a4bc4>\u001b[0m in \u001b[0;36m<module>\u001b[1;34m\u001b[0m\n\u001b[0;32m      5\u001b[0m \u001b[0mlistofWords\u001b[0m \u001b[1;33m=\u001b[0m \u001b[1;34m\"\"\u001b[0m\u001b[1;33m\u001b[0m\u001b[1;33m\u001b[0m\u001b[0m\n\u001b[0;32m      6\u001b[0m \u001b[1;32mfor\u001b[0m \u001b[0mword\u001b[0m \u001b[1;32min\u001b[0m \u001b[0minputString\u001b[0m\u001b[1;33m.\u001b[0m\u001b[0msplit\u001b[0m\u001b[1;33m(\u001b[0m\u001b[1;33m)\u001b[0m \u001b[1;33m:\u001b[0m\u001b[1;33m\u001b[0m\u001b[1;33m\u001b[0m\u001b[0m\n\u001b[1;32m----> 7\u001b[1;33m     \u001b[0mlistofWords\u001b[0m \u001b[1;33m+=\u001b[0m \u001b[0minputString\u001b[0m\u001b[1;33m.\u001b[0m\u001b[0mreplace\u001b[0m\u001b[1;33m(\u001b[0m\u001b[0mword\u001b[0m\u001b[1;33m[\u001b[0m\u001b[1;36m0\u001b[0m\u001b[1;33m]\u001b[0m\u001b[1;33m.\u001b[0m\u001b[0misupper\u001b[0m\u001b[1;33m(\u001b[0m\u001b[1;33m)\u001b[0m\u001b[1;33m,\u001b[0m \u001b[1;34m'***'\u001b[0m\u001b[1;33m)\u001b[0m\u001b[1;33m\u001b[0m\u001b[1;33m\u001b[0m\u001b[0m\n\u001b[0m\u001b[0;32m      8\u001b[0m \u001b[1;33m\u001b[0m\u001b[0m\n\u001b[0;32m      9\u001b[0m \u001b[0mprint\u001b[0m\u001b[1;33m(\u001b[0m\u001b[0mlistofWords\u001b[0m\u001b[1;33m)\u001b[0m\u001b[1;33m\u001b[0m\u001b[1;33m\u001b[0m\u001b[0m\n",
      "\u001b[1;31mTypeError\u001b[0m: replace() argument 1 must be str, not bool"
     ]
    }
   ],
   "source": [
    "''' Exercise 2\n",
    "In a given text, anonymize all the names found in text(for example, replace them with 'xxx' string)'''\n",
    "\n",
    "inputString =\"Ana are mere. Hello world.\"\n",
    "listofWords = \"\"\n",
    "for word in inputString.split() :\n",
    "    if word[0].isupper():\n",
    "      listofWords += inputString.replace(word, '***')\n",
    "\n",
    "print(listofWords)"
   ]
  },
  {
   "cell_type": "code",
   "execution_count": 139,
   "metadata": {},
   "outputs": [
    {
     "name": "stdout",
     "output_type": "stream",
     "text": [
      "['This is a test', 'How are you Maria', ' I am fine', '']\n",
      "4\n",
      "['* is a test', '* are you *', ' * am fine', '']\n"
     ]
    }
   ],
   "source": [
    "''' Exercise 2\n",
    "In a given text, anonymize all the names found in text(for example, replace them with 'xxx' string)'''\n",
    "\n",
    "filename = 'file.txt'\n",
    "file = open(filename, 'r')\n",
    "text = file.read()\n",
    "file.close()\n",
    "\n",
    "# new list of senteces\n",
    "listOfSentences = []\n",
    "\n",
    "# list of sentences with replaced word\n",
    "newList = []\n",
    "\n",
    "# split entire file in sentence after '.'\n",
    "for sentence in text.split('.'):\n",
    "    listOfSentences.append(sentence)\n",
    "print(listOfSentences)\n",
    "\n",
    "#the length of list\n",
    "length = len(listOfSentences)-1\n",
    "print(length)\n",
    "for i in range(length):\n",
    "    phrase = listOfSentences[i]\n",
    "    for word in phrase.split():\n",
    "        if word[0].isupper():\n",
    "            phrase = phrase.replace(word, '*')\n",
    "    newList.append(phrase)\n",
    "print(newList)\n"
   ]
  },
  {
   "cell_type": "code",
   "execution_count": null,
   "metadata": {},
   "outputs": [],
   "source": []
  },
  {
   "cell_type": "code",
   "execution_count": null,
   "metadata": {},
   "outputs": [],
   "source": []
  }
 ],
 "metadata": {
  "kernelspec": {
   "display_name": "Python 3",
   "language": "python",
   "name": "python3"
  },
  "language_info": {
   "codemirror_mode": {
    "name": "ipython",
    "version": 3
   },
   "file_extension": ".py",
   "mimetype": "text/x-python",
   "name": "python",
   "nbconvert_exporter": "python",
   "pygments_lexer": "ipython3",
   "version": "3.7.3"
  }
 },
 "nbformat": 4,
 "nbformat_minor": 2
}
