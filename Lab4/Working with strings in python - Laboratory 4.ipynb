{
 "cells": [
  {
   "cell_type": "code",
   "execution_count": 1,
   "metadata": {},
   "outputs": [
    {
     "name": "stdout",
     "output_type": "stream",
     "text": [
      "Give the string:Alexandra\n",
      "{'A': 1, 'l': 1, 'e': 1, 'x': 1, 'a': 2, 'n': 1, 'd': 1, 'r': 1}\n"
     ]
    }
   ],
   "source": [
    "''' Exemple 1\n",
    "\n",
    "Given an input string, print the number of occurences for every character within the string'''\n",
    "\n",
    "inputStr = input(\"Give the string:\")\n",
    "countDict = {}\n",
    "for char in inputStr:\n",
    "    count = inputStr.count(char)\n",
    "    countDict[char] = count\n",
    "print(countDict)\n",
    "    "
   ]
  },
  {
   "cell_type": "code",
   "execution_count": 6,
   "metadata": {},
   "outputs": [
    {
     "name": "stdout",
     "output_type": "stream",
     "text": [
      "PRint number of chars, digits, and symbols\n",
      "Chars =  8\n",
      "Digits =  3\n",
      "Symbols =  4\n",
      "None\n"
     ]
    }
   ],
   "source": [
    "''' Exemple 2\n",
    "\n",
    "Given an input string, print the number of included letters, digits, and special symbols.'''\n",
    "def cont_chars(inputString):\n",
    "    charCount = 0\n",
    "    digitCount = 0\n",
    "    symbolCount = 0 \n",
    "    for ch in inputString:\n",
    "        if ch.islower() or ch.isupper():\n",
    "            charCount+=1\n",
    "        elif ch.isnumeric():\n",
    "            digitCount+=1\n",
    "        else:\n",
    "            symbolCount+=1\n",
    "    print(\"Chars = \", charCount)\n",
    "    print(\"Digits = \", digitCount)\n",
    "    print(\"Symbols = \", symbolCount)\n",
    "\n",
    "inputString = \"P@#yn26at^&i5ve\"\n",
    "print(\"PRint number of chars, digits, and symbols\")\n",
    "print(cont_chars(inputString))"
   ]
  },
  {
   "cell_type": "code",
   "execution_count": 13,
   "metadata": {},
   "outputs": [
    {
     "name": "stdout",
     "output_type": "stream",
     "text": [
      "['This', 'is', 'a', 'test']\n",
      "['this', 'is', 'a', 'test']\n"
     ]
    }
   ],
   "source": [
    "''' Exemple 3\n",
    "Load a text file. Then split the text by whitespace and remove all the punctuation'''\n",
    "\n",
    "filename = 'file.txt'\n",
    "file = open(filename, 'r')\n",
    "text = file.read()\n",
    "file.close()\n",
    "words = text.split()\n",
    "print(words)\n",
    "words = [word.lower() for word in words]\n",
    "print(words)"
   ]
  },
  {
   "cell_type": "code",
   "execution_count": 14,
   "metadata": {},
   "outputs": [
    {
     "name": "stdout",
     "output_type": "stream",
     "text": [
      "Give the substring: This is a test\n",
      "The number of occurrences is:  1\n"
     ]
    }
   ],
   "source": [
    "''' Exemple 4\n",
    "Given an input file, print the number of occurrences a given word in the given file ignoring the case'''\n",
    "\n",
    "filename = 'file.txt'\n",
    "file = open(filename, 'r')\n",
    "text = file.read()\n",
    "file.close()\n",
    "substring = input(\"Give the substring: \")\n",
    "tempString = text.lower()\n",
    "count = tempString.count(substring.lower())\n",
    "print(\"The number of occurrences is: \", count)"
   ]
  },
  {
   "cell_type": "code",
   "execution_count": 21,
   "metadata": {},
   "outputs": [
    {
     "name": "stdout",
     "output_type": "stream",
     "text": [
      "406@/,HJHxfz\n"
     ]
    }
   ],
   "source": [
    "''' Exercise 1\n",
    "Generate random string that can be as passwords with a specified number of characters and a specified type of characters'''\n",
    "import string\n",
    "import random\n",
    "password = \"\"\n",
    "for i in range(12):\n",
    "    if i>=0 and i<3:\n",
    "        allowed_digits = string.digits\n",
    "        password += random.choice(allowed_digits)\n",
    "    elif i>=3 and i<6:\n",
    "        allowed_punctuation = string.punctuation\n",
    "        password += random.choice(allowed_punctuation)\n",
    "    elif i>=6 and i<9:\n",
    "        allowed_upperCase = string.ascii_uppercase\n",
    "        password += random.choice(allowed_upperCase)\n",
    "    elif i>=9 and i<12:\n",
    "        allowed_lowerCase = string.ascii_lowercase\n",
    "        password += random.choice(allowed_lowerCase)\n",
    "print(password)"
   ]
  },
  {
   "cell_type": "code",
   "execution_count": 1,
   "metadata": {},
   "outputs": [
    {
     "name": "stdout",
     "output_type": "stream",
     "text": [
      "['This is a test', 'How are you Maria', ' I am fine', '']\n",
      "3\n",
      "['* is a test', '* are you *', ' * am fine']\n"
     ]
    }
   ],
   "source": [
    "''' Exercise 2\n",
    "In a given text, anonymize all the names found in text(for example, replace them with 'xxx' string)'''\n",
    "\n",
    "filename = 'file.txt'\n",
    "file = open(filename, 'r')\n",
    "text = file.read()\n",
    "file.close()\n",
    "\n",
    "# new list of senteces\n",
    "listOfSentences = []\n",
    "\n",
    "# list of sentences with replaced word\n",
    "newList = []\n",
    "\n",
    "# split entire file in sentence after '.'\n",
    "for sentence in text.split('.'):\n",
    "    listOfSentences.append(sentence)\n",
    "print(listOfSentences)\n",
    "\n",
    "#the length of list\n",
    "length = len(listOfSentences)-1\n",
    "print(length)\n",
    "for i in range(length):\n",
    "    phrase = listOfSentences[i]\n",
    "    for word in phrase.split():\n",
    "        if word[0].isupper():\n",
    "            phrase = phrase.replace(word, '*')\n",
    "    newList.append(phrase)\n",
    "print(newList)\n"
   ]
  },
  {
   "cell_type": "code",
   "execution_count": null,
   "metadata": {},
   "outputs": [
    {
     "name": "stdout",
     "output_type": "stream",
     "text": [
      ": examine medusa\n",
      "medusa\n",
      "an evil half snake half woman creature\n",
      ": hit medusa\n",
      "You hit the medusa.\n",
      "Health: 2.\n",
      "XP: 60\n",
      ": hit medusa\n",
      "You hit the medusa.\n",
      "Health: 1.\n",
      "XP: 30\n"
     ]
    }
   ],
   "source": [
    "\n",
    "class GameObject(object):\n",
    "    class_name = \"\"\n",
    "    desc = \"\"\n",
    "    health = int\n",
    "    xp = int\n",
    "    objects = {}\n",
    "\n",
    "    def __init__(self, name):\n",
    "        self.name = name\n",
    "        GameObject.objects[self.class_name] =  self\n",
    "\n",
    "    def get_desc(self):\n",
    "        return self.class_name + \"\\n\" + self.desc\n",
    "\n",
    "class Goblin(GameObject):\n",
    "    def __init__(self, name):\n",
    "        self.class_name = \"goblin\"\n",
    "        self._desc = \"A foul creature\"\n",
    "        self.health = 3\n",
    "        self.xp = 60\n",
    "        super(Goblin,self).__init__(name)\n",
    "\n",
    "\n",
    "    @property\n",
    "    def desc(self):\n",
    "        if self.health >= 3:\n",
    "            return self._desc\n",
    "        elif self.health == 2:\n",
    "            health_line = \"It has a wound on its knee\"\n",
    "        elif self.health == 1:\n",
    "            health_line = \"Its left arm has been cut off!\"\n",
    "        elif self.health <= 0:\n",
    "            health_line = \"It's dead\"\n",
    "        return self._desc + \"\\n\" + health_line\n",
    "\n",
    "    @desc.setter\n",
    "    def desc(self, value):\n",
    "        self._desc =  value\n",
    "\n",
    "goblin = Goblin(\"Gobbly\")\n",
    "\n",
    "class Medusa(GameObject):\n",
    "    def __init__(self,name):\n",
    "        self.class_name = \"medusa\"\n",
    "        self.health = 3\n",
    "        self.desc = \"an evil half snake half woman creature\"\n",
    "        self.xp = 90\n",
    "        super().__init__(name)\n",
    "\n",
    "    @property\n",
    "    def desc(self):\n",
    "        if self.health >= 3:\n",
    "            return self._desc\n",
    "        elif self.health == 2:\n",
    "            health_line = \"It has a wound on its knee\"\n",
    "        elif self.health == 1:\n",
    "            health_line = \"Its left arm has been cut off!\"\n",
    "        elif self.health <= 0:\n",
    "            health_line = \"It's dead\"\n",
    "        return self._desc + \"\\n\" + health_line\n",
    "\n",
    "    @desc.setter\n",
    "    def desc(self, value):\n",
    "        self._desc =  value\n",
    "medusa = Medusa(\"medusa\")   \n",
    "\n",
    "def hit(noun):\n",
    "    if noun in GameObject.objects:\n",
    "        thing = GameObject.objects[noun]\n",
    "        if type(thing) == Goblin:\n",
    "            thing.health = thing.health - 1\n",
    "            thing.xp -= 20\n",
    "            if thing.health <= 0:\n",
    "                msg = \"You killed the goblin!\"\n",
    "            else:\n",
    "                msg = \"You hit the {}.\\nHealth: {}.\".format(thing.class_name, thing.health)\n",
    "        elif type(thing) == Medusa:\n",
    "            thing.health = thing.health - 1\n",
    "            thing.xp -=30\n",
    "            if thing.health <= 0:\n",
    "                msg = \"You killed the goblin!\"\n",
    "            else:\n",
    "                msg = \"You hit the {}.\\nHealth: {}.\\nXP: {}\".format(thing.class_name, thing.health, thing.xp)\n",
    "        else:\n",
    "            msg = \"There is no {} here \".format(noun)\n",
    "        return msg\n",
    "\n",
    "\n",
    "def examine(noun):\n",
    "    if noun in GameObject.objects:\n",
    "        return GameObject.objects[noun].get_desc()\n",
    "    else:\n",
    "        return \"There is no {} here\".format(noun)\n",
    "\n",
    "def get_input():\n",
    "    command = input(\": \").split()\n",
    "    verb_word = command[0]\n",
    "    if verb_word in verb_dict:\n",
    "        verb = verb_dict[verb_word]\n",
    "    else:\n",
    "        print(\"Unknow verb {}\".format(verb_word))\n",
    "        return\n",
    "\n",
    "    if len(command) >= 2:\n",
    "        noun_word = command[1]\n",
    "        print(verb(noun_word))\n",
    "    else:\n",
    "        print(verb(\"nothing\"))\n",
    "\n",
    "def say(noun):\n",
    "    return 'You said \"{}\"'.format(noun)\n",
    "\n",
    "verb_dict = {\n",
    "    \"say\": say,\n",
    "    \"examine\": examine,\n",
    "    \"hit\": hit\n",
    "}\n",
    "\n",
    "while True:\n",
    "    get_input()"
   ]
  },
  {
   "cell_type": "code",
   "execution_count": null,
   "metadata": {},
   "outputs": [],
   "source": []
  }
 ],
 "metadata": {
  "kernelspec": {
   "display_name": "Python 3",
   "language": "python",
   "name": "python3"
  },
  "language_info": {
   "codemirror_mode": {
    "name": "ipython",
    "version": 3
   },
   "file_extension": ".py",
   "mimetype": "text/x-python",
   "name": "python",
   "nbconvert_exporter": "python",
   "pygments_lexer": "ipython3",
   "version": "3.7.3"
  }
 },
 "nbformat": 4,
 "nbformat_minor": 2
}
