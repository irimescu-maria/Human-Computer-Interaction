{
 "cells": [
  {
   "cell_type": "code",
   "execution_count": 1,
   "metadata": {},
   "outputs": [
    {
     "name": "stdout",
     "output_type": "stream",
     "text": [
      "Division by zero\n"
     ]
    }
   ],
   "source": [
    "'''\n",
    "Exception Handling\n",
    "\n",
    "Exemple 1 \n",
    "'''\n",
    "try:\n",
    "    x = 3\n",
    "    y = 0\n",
    "    print(x/y)\n",
    "    print(\"Done\")\n",
    "except ZeroDivisionError:\n",
    "    print(\"Division by zero\")"
   ]
  },
  {
   "cell_type": "code",
   "execution_count": 2,
   "metadata": {},
   "outputs": [
    {
     "name": "stdout",
     "output_type": "stream",
     "text": [
      "Value Error or TypeError\n"
     ]
    }
   ],
   "source": [
    "'''\n",
    "Example 2\n",
    "'''\n",
    "try:\n",
    "    print(10 + \"bla-bla\")\n",
    "except ZeroDivisionError:\n",
    "    print(\"Divided by zero\")\n",
    "except (ValueError, TypeError):\n",
    "    print(\"Value Error or TypeError\")"
   ]
  },
  {
   "cell_type": "code",
   "execution_count": 3,
   "metadata": {},
   "outputs": [
    {
     "name": "stdout",
     "output_type": "stream",
     "text": [
      "Hello\n",
      "0.1\n",
      "This message will be printed no matter what\n"
     ]
    }
   ],
   "source": [
    "'''\n",
    "Example 3\n",
    "'''\n",
    "try:\n",
    "    print(\"Hello\")\n",
    "    print(1/10)\n",
    "except ZeroDivisionError:\n",
    "    print(\"Divided by zero\")\n",
    "finally:\n",
    "    print(\"This message will be printed no matter what\")"
   ]
  },
  {
   "cell_type": "code",
   "execution_count": 4,
   "metadata": {},
   "outputs": [
    {
     "name": "stdout",
     "output_type": "stream",
     "text": [
      "1\n"
     ]
    },
    {
     "ename": "ValueError",
     "evalue": "",
     "output_type": "error",
     "traceback": [
      "\u001b[1;31m---------------------------------------------------------------------------\u001b[0m",
      "\u001b[1;31mValueError\u001b[0m                                Traceback (most recent call last)",
      "\u001b[1;32m<ipython-input-4-cc65c7e0a32d>\u001b[0m in \u001b[0;36m<module>\u001b[1;34m\u001b[0m\n\u001b[0;32m      3\u001b[0m '''\n\u001b[0;32m      4\u001b[0m \u001b[0mprint\u001b[0m\u001b[1;33m(\u001b[0m\u001b[1;36m1\u001b[0m\u001b[1;33m)\u001b[0m\u001b[1;33m\u001b[0m\u001b[1;33m\u001b[0m\u001b[0m\n\u001b[1;32m----> 5\u001b[1;33m \u001b[1;32mraise\u001b[0m \u001b[0mValueError\u001b[0m\u001b[1;33m\u001b[0m\u001b[1;33m\u001b[0m\u001b[0m\n\u001b[0m\u001b[0;32m      6\u001b[0m \u001b[0mprint\u001b[0m\u001b[1;33m(\u001b[0m\u001b[1;36m2\u001b[0m\u001b[1;33m)\u001b[0m\u001b[1;33m\u001b[0m\u001b[1;33m\u001b[0m\u001b[0m\n\u001b[0;32m      7\u001b[0m \u001b[1;33m\u001b[0m\u001b[0m\n",
      "\u001b[1;31mValueError\u001b[0m: "
     ]
    }
   ],
   "source": [
    "'''\n",
    "Exemple 4: Raising exceptions\n",
    "'''\n",
    "print(1)\n",
    "raise ValueError\n",
    "print(2)\n",
    "\n",
    "name = \"@#$%\"\n",
    "raise NameError(\"Invalid Name\")"
   ]
  },
  {
   "cell_type": "code",
   "execution_count": 5,
   "metadata": {},
   "outputs": [
    {
     "name": "stdout",
     "output_type": "stream",
     "text": [
      "An error occurred\n"
     ]
    },
    {
     "ename": "ZeroDivisionError",
     "evalue": "division by zero",
     "output_type": "error",
     "traceback": [
      "\u001b[1;31m---------------------------------------------------------------------------\u001b[0m",
      "\u001b[1;31mZeroDivisionError\u001b[0m                         Traceback (most recent call last)",
      "\u001b[1;32m<ipython-input-5-a6390b7e611e>\u001b[0m in \u001b[0;36m<module>\u001b[1;34m\u001b[0m\n\u001b[0;32m      3\u001b[0m '''\n\u001b[0;32m      4\u001b[0m \u001b[1;32mtry\u001b[0m\u001b[1;33m:\u001b[0m\u001b[1;33m\u001b[0m\u001b[1;33m\u001b[0m\u001b[0m\n\u001b[1;32m----> 5\u001b[1;33m     \u001b[0mnum\u001b[0m \u001b[1;33m=\u001b[0m \u001b[1;36m5\u001b[0m\u001b[1;33m/\u001b[0m\u001b[1;36m0\u001b[0m\u001b[1;33m\u001b[0m\u001b[1;33m\u001b[0m\u001b[0m\n\u001b[0m\u001b[0;32m      6\u001b[0m \u001b[1;32mexcept\u001b[0m\u001b[1;33m:\u001b[0m\u001b[1;33m\u001b[0m\u001b[1;33m\u001b[0m\u001b[0m\n\u001b[0;32m      7\u001b[0m     \u001b[0mprint\u001b[0m\u001b[1;33m(\u001b[0m\u001b[1;34m\"An error occurred\"\u001b[0m\u001b[1;33m)\u001b[0m\u001b[1;33m\u001b[0m\u001b[1;33m\u001b[0m\u001b[0m\n",
      "\u001b[1;31mZeroDivisionError\u001b[0m: division by zero"
     ]
    }
   ],
   "source": [
    "'''\n",
    "Example 5\n",
    "'''\n",
    "try:\n",
    "    num = 5/0\n",
    "except:\n",
    "    print(\"An error occurred\")\n",
    "    raise"
   ]
  },
  {
   "cell_type": "code",
   "execution_count": 6,
   "metadata": {},
   "outputs": [
    {
     "name": "stdout",
     "output_type": "stream",
     "text": [
      "Hello world\n"
     ]
    }
   ],
   "source": [
    "'''\n",
    "    Functions in Python\n",
    "    \n",
    "Exemple 1    \n",
    "'''\n",
    "def my_func():\n",
    "    print(\"Hello world\")\n",
    "    \n",
    "my_func()\n"
   ]
  },
  {
   "cell_type": "code",
   "execution_count": 7,
   "metadata": {},
   "outputs": [
    {
     "name": "stdout",
     "output_type": "stream",
     "text": [
      "Hello!\n"
     ]
    }
   ],
   "source": [
    "'''\n",
    "Exemple 2: Function with one argument\n",
    "'''\n",
    "def my_print(word):\n",
    "    '''\n",
    "    printing in progress\n",
    "    '''\n",
    "    print(word + \"!\")\n",
    "\n",
    "my_print(\"Hello\")"
   ]
  },
  {
   "cell_type": "code",
   "execution_count": 8,
   "metadata": {},
   "outputs": [
    {
     "name": "stdout",
     "output_type": "stream",
     "text": [
      "7\n"
     ]
    }
   ],
   "source": [
    "'''\n",
    "Exemple 3 : Function with two arguments\n",
    "'''\n",
    "def print_sum(x,y):\n",
    "    print(x+y)\n",
    "print_sum(3,4)"
   ]
  },
  {
   "cell_type": "code",
   "execution_count": 9,
   "metadata": {},
   "outputs": [
    {
     "name": "stdout",
     "output_type": "stream",
     "text": [
      "7\n"
     ]
    }
   ],
   "source": [
    "'''\n",
    "Exemple 4: Another function with two arguments\n",
    "'''\n",
    "def find_max(x,y):\n",
    "    if(x>=y):\n",
    "        return x\n",
    "    else:\n",
    "        return y\n",
    "\n",
    "print(find_max(7,3))"
   ]
  },
  {
   "cell_type": "code",
   "execution_count": 10,
   "metadata": {},
   "outputs": [
    {
     "name": "stdout",
     "output_type": "stream",
     "text": [
      "0.6666666666666666\n",
      "6.666666666666667\n",
      "33.333333333333336\n",
      "10.0\n",
      "3.3333333333333335\n",
      "33.333333333333336\n"
     ]
    }
   ],
   "source": [
    "'''\n",
    "Example 5: Function with default values\n",
    "'''\n",
    "def my_funct(x = 1, y = 2, z = 3):\n",
    "    return x*y/z;\n",
    "\n",
    "print(my_funct())\n",
    "print(my_funct(10))\n",
    "print(my_funct(10,10))\n",
    "print(my_funct(10,10,10))\n",
    "print(my_funct(y=10))\n",
    "print(my_funct(y=10, x=10))"
   ]
  },
  {
   "cell_type": "code",
   "execution_count": 11,
   "metadata": {},
   "outputs": [
    {
     "data": {
      "text/plain": [
       "1.3333333333333333"
      ]
     },
     "execution_count": 11,
     "metadata": {},
     "output_type": "execute_result"
    }
   ],
   "source": [
    "'''\n",
    "Exemple 6: Function in function\n",
    "\n",
    "!!! Functions can be assigned and reassigned to variables and later \n",
    "refferenced by the variables names.\n",
    "'''\n",
    "\n",
    "def call_funct(func, x, y):\n",
    "    return func(x, y)\n",
    "\n",
    "call_funct(my_funct, 2, 2)"
   ]
  },
  {
   "cell_type": "code",
   "execution_count": 12,
   "metadata": {},
   "outputs": [
    {
     "name": "stdout",
     "output_type": "stream",
     "text": [
      "28\n",
      "0.5714285714285714\n",
      "11\n",
      "-3\n"
     ]
    }
   ],
   "source": [
    "'''\n",
    "Exercise 1: Complete the following code by adding other arithmetic functions\n",
    "Method 1\n",
    "'''\n",
    "\n",
    "def my_multiply(x, y):\n",
    "    return x*y\n",
    "\n",
    "def my_division(x, y):\n",
    "    try:\n",
    "        return x/y\n",
    "    except ZeroDivisionError:\n",
    "        print(\"Divided by zero\")\n",
    "        \n",
    "def my_sum(x, y):\n",
    "    return x+y\n",
    "\n",
    "def my_subtraction(x, y):\n",
    "    return x-y\n",
    "        \n",
    "x = 4\n",
    "y = 7\n",
    "operation = my_multiply\n",
    "print(operation(x, y))\n",
    "\n",
    "operation = my_division\n",
    "print(operation(x, y))\n",
    "\n",
    "operation = my_sum\n",
    "print(operation(x, y))\n",
    "\n",
    "operation = my_subtraction\n",
    "print(operation(x, y))"
   ]
  },
  {
   "cell_type": "code",
   "execution_count": 13,
   "metadata": {},
   "outputs": [
    {
     "name": "stdout",
     "output_type": "stream",
     "text": [
      "28\n",
      "0.5714285714285714\n",
      "11\n",
      "-3\n"
     ]
    }
   ],
   "source": [
    "'''\n",
    "Exercise 1: Complete the following code by adding other arithmetic functions\n",
    "Method 2\n",
    "'''\n",
    "\n",
    "def my_multiply(x, y):\n",
    "    return x*y\n",
    "\n",
    "def my_division(x, y):\n",
    "    try:\n",
    "        return x/y\n",
    "    except ZeroDivisionError:\n",
    "        print(\"Divided by zero\")\n",
    "        \n",
    "def my_sum(x, y):\n",
    "    return x+y\n",
    "\n",
    "def my_subtraction(x, y):\n",
    "    return x-y\n",
    "        \n",
    "def operation(func, x, y):\n",
    "    return func(x, y)\n",
    "\n",
    "print(operation(my_multiply, 4, 7))\n",
    "print(operation(my_division, 4, 7))\n",
    "print(operation(my_sum, 4, 7))\n",
    "print(operation(my_subtraction, 4, 7))"
   ]
  },
  {
   "cell_type": "code",
   "execution_count": 14,
   "metadata": {},
   "outputs": [
    {
     "name": "stdout",
     "output_type": "stream",
     "text": [
      "['Learn python d dsdsds dfdfdddddddd']\n",
      "Learn python d dsdsds dfdfdddddddd\n"
     ]
    }
   ],
   "source": [
    "'''\n",
    "    Reading and Writing Files \n",
    "The files can be opened with 'open' method:\n",
    " eg: open(name_file, opening_mode)\n",
    " \n",
    "where opening_mode can be:\n",
    "    r -> for reading\n",
    "    w -> for writing\n",
    "    a -> for appending\n",
    "    r+ -> for writing and reading\n",
    "'''\n",
    "\n",
    "'''\n",
    "Exemple 1\n",
    "'''\n",
    "file = open(\"filename.txt\", \"r\")\n",
    "print(file.readlines())\n",
    "file.close()\n",
    "\n",
    "file = open(\"filename.txt\", \"r\")\n",
    "for line in file:\n",
    "    print(line)\n",
    "file.close()\n"
   ]
  },
  {
   "cell_type": "code",
   "execution_count": 15,
   "metadata": {},
   "outputs": [
    {
     "name": "stdout",
     "output_type": "stream",
     "text": [
      "Some contents\n"
     ]
    }
   ],
   "source": [
    "'''\n",
    "Exemple 2: The write and read methods\n",
    "'''\n",
    "'''creates file newfile.txt'''\n",
    "file = open(\"newfile.txt\", \"w\") \n",
    "file.write(\"Some contents\")\n",
    "file.close()\n",
    "\n",
    "file = open(\"newfile.txt\", \"r\")\n",
    "print(file.read())\n",
    "file.close()"
   ]
  },
  {
   "cell_type": "code",
   "execution_count": 16,
   "metadata": {},
   "outputs": [
    {
     "name": "stdout",
     "output_type": "stream",
     "text": [
      "The number of bytes written is 20\n"
     ]
    }
   ],
   "source": [
    "'''\n",
    "Exemple 3: Obtain the number of bytes written to a file\n",
    "'''\n",
    "msg = ''' Some other contents'''\n",
    "file = open(\"newfile.txt\", \"w\")\n",
    "size_in_bytes = file.write(msg)\n",
    "print(\"The number of bytes written is\", size_in_bytes)\n",
    "file.close()\n"
   ]
  },
  {
   "cell_type": "code",
   "execution_count": 17,
   "metadata": {},
   "outputs": [
    {
     "name": "stdout",
     "output_type": "stream",
     "text": [
      "Learn python d dsdsds dfdfdddddddd\n"
     ]
    }
   ],
   "source": [
    "'''\n",
    "Exemple 4: Try-finally in reading files\n",
    "'''\n",
    "try:\n",
    "    f = open(\"filename.txt\")\n",
    "    print(f.read())\n",
    "finally:\n",
    "    f.close()"
   ]
  },
  {
   "cell_type": "code",
   "execution_count": 18,
   "metadata": {},
   "outputs": [
    {
     "name": "stdout",
     "output_type": "stream",
     "text": [
      "Learn python d dsdsds dfdfdddddddd\n"
     ]
    }
   ],
   "source": [
    "'''\n",
    "Exemple 5: 'With' statement\n",
    "'''\n",
    "with open(\"filename.txt\") as f:\n",
    "    print(f.read())"
   ]
  },
  {
   "cell_type": "code",
   "execution_count": 19,
   "metadata": {},
   "outputs": [
    {
     "name": "stdout",
     "output_type": "stream",
     "text": [
      "Enter the file name:newfile.txt\n",
      "The file contains:  Some other contents\n"
     ]
    }
   ],
   "source": [
    "'''\n",
    "Exemple 6: Getting the file content\n",
    "'''\n",
    "filename = input(\"Enter the file name:\")\n",
    "with open(filename) as f:\n",
    "    text = f.read()\n",
    "print(\"The file contains: \" + text)"
   ]
  },
  {
   "cell_type": "code",
   "execution_count": 20,
   "metadata": {},
   "outputs": [
    {
     "name": "stdout",
     "output_type": "stream",
     "text": [
      "Enter the file name:filename.txt\n",
      "1\n"
     ]
    }
   ],
   "source": [
    "'''\n",
    "Exemple 7: This program contais a function that counts \n",
    "how many times a character occurs in a string\n",
    "'''\n",
    "\n",
    "def count_char(text, char):\n",
    "    count = 0\n",
    "    for c in text:\n",
    "        if(c == char):\n",
    "            count += 1\n",
    "    return count\n",
    "\n",
    "filename = input(\"Enter the file name:\")\n",
    "with open(filename) as f:\n",
    "    text = f.read()\n",
    "count = count_char(text, \"r\")\n",
    "print(count)"
   ]
  },
  {
   "cell_type": "code",
   "execution_count": 13,
   "metadata": {},
   "outputs": [
    {
     "name": "stdout",
     "output_type": "stream",
     "text": [
      "Enter the file name:filename.txt\n",
      "a - 0.01 %\n",
      "b - 0.0 %\n",
      "c - 0.0 %\n",
      "d - 0.14 %\n",
      "e - 0.01 %\n",
      "f - 0.02 %\n",
      "g - 0.0 %\n",
      "h - 0.01 %\n",
      "i - 0.0 %\n",
      "j - 0.0 %\n",
      "k - 0.0 %\n",
      "l - 0.0 %\n",
      "m - 0.0 %\n",
      "n - 0.02 %\n",
      "o - 0.01 %\n",
      "p - 0.01 %\n",
      "q - 0.0 %\n",
      "r - 0.01 %\n",
      "s - 0.03 %\n",
      "t - 0.01 %\n",
      "u - 0.0 %\n",
      "v - 0.0 %\n",
      "w - 0.0 %\n",
      "x - 0.0 %\n",
      "y - 0.01 %\n",
      "z - 0.0 %\n"
     ]
    }
   ],
   "source": [
    "'''\n",
    "Exercise 2 : Write a program that calculates and outputs the percentage\n",
    "that occupies in the given file each character of the alphabet.\n",
    "'''\n",
    "import numpy\n",
    "def count_char(text, a = \"abcdefghijklmnopqrstuvwxyz\"):\n",
    "    count = 0\n",
    "    for c in a:\n",
    "        for ch in text:\n",
    "            if(ch == c):\n",
    "                count += 1\n",
    "    return count/100;\n",
    "\n",
    "def percent(text):\n",
    "    percent = 0\n",
    "    for ch in text:\n",
    "        if((ch>='a' and ch<='z') or (ch>='A' and ch<='Z')):\n",
    "            '''percent += 1\n",
    "            return percent/count_char(text, c)*100'''\n",
    "    return 100/count_char(text, c)\n",
    "    \n",
    "filename = input(\"Enter the file name:\")\n",
    "with open(filename) as f:\n",
    "    text = f.read()\n",
    "    a = \"abcdefghijklmnopqrstuvwxyz\"\n",
    "for c in a:\n",
    "    print(c,\"-\",count_char(text, c),\"%\")"
   ]
  }
 ],
 "metadata": {
  "kernelspec": {
   "display_name": "Python 3",
   "language": "python",
   "name": "python3"
  },
  "language_info": {
   "codemirror_mode": {
    "name": "ipython",
    "version": 3
   },
   "file_extension": ".py",
   "mimetype": "text/x-python",
   "name": "python",
   "nbconvert_exporter": "python",
   "pygments_lexer": "ipython3",
   "version": "3.6.8"
  }
 },
 "nbformat": 4,
 "nbformat_minor": 2
}
